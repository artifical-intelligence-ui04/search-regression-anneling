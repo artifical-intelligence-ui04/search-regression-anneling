{
 "cells": [
  {
   "metadata": {},
   "cell_type": "markdown",
   "source": [
    "# Asteroid Diameter Prediction with Linear Regression (SGD)\n",
    "\n",
    "**Project Goal:** To develop a Linear Regression model to predict asteroid diameter based on orbital and physical features. The Stochastic Gradient Descent (SGD) optimizer will be\n",
    "implemented from scratch."
   ],
   "id": "b595f7d8f6e81efb"
  },
  {
   "metadata": {},
   "cell_type": "markdown",
   "source": "## Libraries",
   "id": "c4e1a6bd81b23645"
  },
  {
   "cell_type": "code",
   "id": "initial_id",
   "metadata": {
    "collapsed": true,
    "jupyter": {
     "outputs_hidden": true
    }
   },
   "source": [
    "import pandas as pd\n",
    "import numpy as np\n",
    "import matplotlib.pyplot as plt\n",
    "import seaborn as sns\n",
    "\n",
    "from sklearn.model_selection import train_test_split\n",
    "from sklearn.preprocessing import StandardScaler, MinMaxScaler, MaxAbsScaler, RobustScaler\n",
    "from sklearn.preprocessing import LabelEncoder, OneHotEncoder, OrdinalEncoder\n",
    "from sklearn.metrics import r2_score, mean_squared_error, mean_absolute_error"
   ],
   "outputs": [],
   "execution_count": null
  },
  {
   "metadata": {},
   "cell_type": "markdown",
   "source": [
    "## Data Loading and Preparation\n",
    "\n",
    "In this section, we load, inspect, and prepare the data for modeling."
   ],
   "id": "89345539c45a027e"
  },
  {
   "metadata": {},
   "cell_type": "markdown",
   "source": [
    "### Load and Split Data\n",
    "\n",
    "We load the dataset and split it into training and test sets as per the project requirements (80/20 split, `random_state=42`)"
   ],
   "id": "8f2a4592cc9bb9d7"
  },
  {
   "cell_type": "code",
   "id": "d71d60ccdfc7e4dc",
   "metadata": {},
   "source": [
    "df = pd.read_csv('NASA_JPL_Dataset.csv')"
   ],
   "outputs": [],
   "execution_count": null
  },
  {
   "cell_type": "code",
   "id": "1b4b35d28e741bdf",
   "metadata": {},
   "source": [
    "df.shape"
   ],
   "outputs": [],
   "execution_count": null
  },
  {
   "cell_type": "code",
   "id": "5d3767d8dc3b3316",
   "metadata": {},
   "source": [
    "df.columns"
   ],
   "outputs": [],
   "execution_count": null
  },
  {
   "cell_type": "code",
   "id": "52389b58bbca6cab",
   "metadata": {},
   "source": [
    "df.info()"
   ],
   "outputs": [],
   "execution_count": null
  },
  {
   "cell_type": "code",
   "id": "8bd8dbddbb4312a4",
   "metadata": {},
   "source": [
    "df.isna().sum()"
   ],
   "outputs": [],
   "execution_count": null
  },
  {
   "cell_type": "code",
   "id": "fbdafb405823c0c7",
   "metadata": {},
   "source": [
    "df.describe().T"
   ],
   "outputs": [],
   "execution_count": null
  },
  {
   "cell_type": "code",
   "id": "a6f315c483243da0",
   "metadata": {},
   "source": [
    "X = df.drop(columns =['diameter']) # Features\n",
    "y = df['diameter'] # Target variable\n",
    "\n",
    "# Split the data\n",
    "X_train , X_test , y_train , y_test = train_test_split(X, y,\n",
    "                                                       test_size =0.2,\n",
    "                                                       random_state =42)"
   ],
   "outputs": [],
   "execution_count": null
  },
  {
   "metadata": {},
   "cell_type": "markdown",
   "source": "### Preprocessing",
   "id": "5339dd218e914f27"
  },
  {
   "metadata": {},
   "cell_type": "markdown",
   "source": "#### Remove irrelevant columns",
   "id": "ed294b285befac88"
  },
  {
   "cell_type": "code",
   "id": "5d8aa56d1ef2d57f",
   "metadata": {},
   "source": [
    "# # define list of irrelevant columns\n",
    "# cols_to_drop = [\n",
    "#     \"column_name\",\n",
    "#\n",
    "\n",
    "# X_train.drop(columns=cols_to_drop, inplace=True)\n",
    "# X_test.drop(columns=cols_to_drop, inplace=True)"
   ],
   "outputs": [],
   "execution_count": null
  },
  {
   "cell_type": "code",
   "id": "cf5a6c2da686dfd7",
   "metadata": {},
   "source": [
    "X_train.columns"
   ],
   "outputs": [],
   "execution_count": null
  },
  {
   "metadata": {},
   "cell_type": "markdown",
   "source": "#### EDA and Visualization (optional)",
   "id": "3c2714fe5ea13261"
  },
  {
   "cell_type": "code",
   "id": "c787483f92651fb3",
   "metadata": {},
   "source": [
    "# Example: Correlation matrix\n",
    "numeric_columns = df.select_dtypes(include=['int64', 'float64'])\n",
    "plt.figure(figsize=(20, 6))\n",
    "Corr = numeric_columns.corr()\n",
    "sns.heatmap(Corr, annot=True, cmap='coolwarm')\n",
    "plt.title('Correlation Heatmap for Numerical Features')\n",
    "plt.show()"
   ],
   "outputs": [],
   "execution_count": null
  },
  {
   "metadata": {},
   "cell_type": "markdown",
   "source": "#### Feature Engineering (optional)",
   "id": "60d3bb480631ed53"
  },
  {
   "metadata": {},
   "cell_type": "code",
   "outputs": [],
   "execution_count": null,
   "source": [
    "# Add new features. (e.g. if we have feats like x, y and z, you can add x^i times y^j times z^k where at i + j + k >= 2)\n",
    "# Warning: it can overfit the model."
   ],
   "id": "7dca08752bd58943"
  },
  {
   "metadata": {},
   "cell_type": "markdown",
   "source": [
    "#### Encoding\n",
    "\n",
    "Categorical columns must be converted to numeric format."
   ],
   "id": "820867b3a17eaa93"
  },
  {
   "cell_type": "code",
   "id": "3476d511b65a7edb",
   "metadata": {},
   "source": [
    "categorical = X_train.select_dtypes(include='object').columns\n",
    "label_encoder = LabelEncoder()"
   ],
   "outputs": [],
   "execution_count": null
  },
  {
   "metadata": {},
   "cell_type": "markdown",
   "source": "#### Outlier Detection (optional)",
   "id": "44305baec8471997"
  },
  {
   "metadata": {},
   "cell_type": "code",
   "outputs": [],
   "execution_count": null,
   "source": "# Drop some outlier instances based on std and percentile.",
   "id": "809da6e2ec2e8e4c"
  },
  {
   "metadata": {},
   "cell_type": "markdown",
   "source": [
    "#### Feature Scaling\n",
    "\n",
    "To ensure stable convergence for SGD, all features must be scaled."
   ],
   "id": "33bd081b2934fe1"
  },
  {
   "cell_type": "code",
   "id": "20e70cdb2a8dfc1e",
   "metadata": {},
   "source": [
    "numeric_columns = X_train.select_dtypes(include='float32').columns\n",
    "scaler = StandardScaler()"
   ],
   "outputs": [],
   "execution_count": null
  },
  {
   "metadata": {},
   "cell_type": "code",
   "source": "X_train",
   "id": "923130cc64faad41",
   "outputs": [],
   "execution_count": null
  },
  {
   "metadata": {},
   "cell_type": "code",
   "outputs": [],
   "execution_count": null,
   "source": "X_test",
   "id": "838b31bc0559dcd7"
  },
  {
   "metadata": {},
   "cell_type": "markdown",
   "source": [
    "## Model Implementation and Training (From Scratch)\n",
    "\n",
    "Here, we build the core of the project: the `SGDRegressorScratch` class. This class will implement the linear regression model and the Stochastic Gradient Descent optimizer from scratch.\n",
    "\n",
    "To improve the score and meet the bonus target , techniques like Momentum, Learning Rate Scheduling, or Regularization can be added to the `SGDRegressorScratch` class."
   ],
   "id": "dad26571903e9958"
  },
  {
   "metadata": {},
   "cell_type": "code",
   "source": [
    "class SGDRegressorScratch:\n",
    "    \"\"\"\n",
    "    Implementation of the SGD Regression model from scratch.\n",
    "\n",
    "    Parameters:\n",
    "    -----------\n",
    "    learning_rate (float): The learning rate for weight updates.\n",
    "    n_epochs (int): The number of passes over the entire dataset.\n",
    "    random_state (int): Ensures reproducible results for data shuffling.\n",
    "    \"\"\"\n",
    "    def __init__(self, learning_rate, n_epochs, random_state):\n",
    "        self.learning_rate = learning_rate\n",
    "        self.n_epochs = n_epochs\n",
    "        self.random_state = random_state\n",
    "        self.weights_ = None\n",
    "\n",
    "    def fit(self, X, y):\n",
    "        \"\"\"\n",
    "        Fit the model to the training data.\n",
    "\n",
    "        Parameters:\n",
    "        -----------\n",
    "        X (array-like): Feature matrix of shape (n_samples, n_features).\n",
    "        y (array-like): Target vector of shape (n_samples,).\n",
    "        \"\"\"\n",
    "        \n",
    "        pass\n",
    "                \n",
    "        return self\n",
    "\n",
    "    def predict(self, X):\n",
    "        \"\"\"\n",
    "        Predict values for new data.\n",
    "\n",
    "        Parameters:\n",
    "        -----------\n",
    "        X (array-like): Feature matrix of shape (n_samples, n_features).\n",
    "\n",
    "        Returns:\n",
    "        -------\n",
    "        array: Predicted values.\n",
    "        \"\"\"\n",
    "        \n",
    "        pass"
   ],
   "id": "c0f30bc7d4ee54d8",
   "outputs": [],
   "execution_count": null
  },
  {
   "metadata": {},
   "cell_type": "code",
   "source": [
    "Epochs = 100\n",
    "Learning_rate = 0.1\n",
    "random_state = 42\n",
    "sgd_scratch_model = SGDRegressorScratch(\n",
    "    n_epochs=Epochs,\n",
    "    learning_rate=Learning_rate,\n",
    "    random_state=random_state\n",
    ")\n",
    "\n",
    "sgd_scratch_model.fit(X_train, y_train.values)\n",
    "\n",
    "y_pred_scratch = sgd_scratch_model.predict(X_test)\n",
    "\n",
    "R2_Score = r2_score(y_test, y_pred_scratch)\n",
    "MAE_Score = mean_absolute_error(y_test, y_pred_scratch)\n",
    "MSE_Score = mean_squared_error(y_test, y_pred_scratch)\n",
    "\n",
    "print(f\"R² Scratch SGD Score: {R2_Score:.4f}\")\n",
    "print(f\"MAE SGD Score: {MAE_Score:.4f}\")\n",
    "print(f\"MSE SGD Score: {MSE_Score:.4f}\")\n"
   ],
   "id": "c4573d60ef105c2a",
   "outputs": [],
   "execution_count": null
  }
 ],
 "metadata": {
  "kernelspec": {
   "display_name": "Python [conda env:base] *",
   "language": "python",
   "name": "conda-base-py"
  },
  "language_info": {
   "codemirror_mode": {
    "name": "ipython",
    "version": 3
   },
   "file_extension": ".py",
   "mimetype": "text/x-python",
   "name": "python",
   "nbconvert_exporter": "python",
   "pygments_lexer": "ipython3",
   "version": "3.11.7"
  }
 },
 "nbformat": 4,
 "nbformat_minor": 5
}
