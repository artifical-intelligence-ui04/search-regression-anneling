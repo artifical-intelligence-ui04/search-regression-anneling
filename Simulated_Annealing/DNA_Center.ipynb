{
 "cells": [
  {
   "metadata": {},
   "cell_type": "markdown",
   "source": "# Data Center Point"
  },
  {
   "cell_type": "markdown",
   "metadata": {},
   "source": [
    "## Problem Definition"
   ]
  },
  {
   "cell_type": "markdown",
   "metadata": {},
   "source": [
    "DNA is composed of four nucleic-acid bases. namely A, C, G and T. We consider DNA as a string from these four characters. In this exercise we want to find the center of a group of DNAs. In order to define center we need to first define distance between two DNAs (strings). Note that DNAs have the same length, so their distsance could be defined as:\n",
    "$$\n",
    "dist(a, b) = \\sum_{a[i] \\neq b[i]} 1\n",
    "$$\n",
    "for example the distance between the below DNAs is two since they are different in two indecies.\n",
    "$$\n",
    "AGGCT\n",
    "$$\n",
    "$$\n",
    "ACGCA\n",
    "$$\n",
    "\n",
    "Now we can define the center of a set of DNAs as follows.\n",
    "$$\n",
    "center(S) = \\arg \\min_{a}{\\{\\max_{i \\in S}{\\{dist(a, i)}\\}\\}}\n",
    "$$\n",
    "In other words center of a set of DNAs is a DNA which its distance from the furthest DNA in the set is the least. Below is an example.\n",
    "\n",
    "$$\n",
    "center(\\{ACCT, AGCG, ACTG\\}) = \\{ACCG\\}\n",
    "$$\n",
    "\n",
    "Note that center is not necassarily unique. Look at the below case for instance.\n",
    "\n",
    "$$\n",
    "center(\\{AA, AC, AG\\}) = \\{AA, AC, AG, AT\\}\n",
    "$$\n",
    "\n",
    "However the maximum distance of the center is unique. We call this value the radius of the set.\n",
    "\n",
    "$$\n",
    "radius(S) = \\min_{a}{\\{\\max_{i \\in S}{\\{dist(a, i)}\\}\\}}\n",
    "$$\n",
    "$$\n",
    "radius(\\{AA, AC, AG\\}) = 1\n",
    "$$\n",
    "\n",
    "Our goal is to find the center and the radius utilizing __simulated annealing__."
   ]
  },
  {
   "metadata": {},
   "cell_type": "markdown",
   "source": "## Libraries"
  },
  {
   "metadata": {},
   "cell_type": "code",
   "outputs": [],
   "execution_count": null,
   "source": [
    "import random\n",
    "import numpy as np\n",
    "import matplotlib.pyplot as plt\n",
    "import time\n",
    "\n",
    "Alphabet = np.array(['a', 'c', 'g', 't'])"
   ]
  },
  {
   "cell_type": "markdown",
   "metadata": {},
   "source": [
    "## Initializing States"
   ]
  },
  {
   "cell_type": "markdown",
   "metadata": {},
   "source": [
    "First we must model our problem, so we will be able to solve it. Our solution is a string with the same length as the objects in $S$. In order to represent the solutions which are the states in our problem, we use a numpy array of characters."
   ]
  },
  {
   "cell_type": "code",
   "metadata": {},
   "source": [
    "def initialize_state(n):\n",
    "    ##################################################################\n",
    "    # [inputs]                                                       #\n",
    "    # length of the vector                                           #\n",
    "    # [outputs]                                                      #\n",
    "    # returns a random vector with length n and                      #\n",
    "    # uniform probability from Alphabet elements as a numpy array    #\n",
    "    ##################################################################\n",
    "    pass"
   ],
   "outputs": [],
   "execution_count": null
  },
  {
   "cell_type": "markdown",
   "metadata": {},
   "source": [
    "## Evaluation Function"
   ]
  },
  {
   "cell_type": "markdown",
   "metadata": {},
   "source": [
    "We want to start from a state(solution) and try minimizing the distance. In other words the outer minimization of the center formula will be done by simulated annealing so the inner maximization must be done by the evaluation function. As a result the evaluation function , represented by e, is as follows.\n",
    "\n",
    "$$\n",
    "f(a) = \\max_{i \\in S}{dist(a, i)}\n",
    "$$"
   ]
  },
  {
   "cell_type": "code",
   "metadata": {},
   "source": [
    "def calculate_evaluation(genomes, state):\n",
    "    ##################################################################\n",
    "    # [inputs]                                                       #\n",
    "    # genomes is a 2D numpy array and represents the set of DNAs     #\n",
    "    # state is a 1D numpy array which represents \"a\" in the equation #\n",
    "    # [outputs]                                                      #\n",
    "    # the function returns the value of f(a)                         #\n",
    "    ##################################################################\n",
    "    pass\n"
   ],
   "outputs": [],
   "execution_count": null
  },
  {
   "cell_type": "markdown",
   "metadata": {},
   "source": [
    "## Neighboring State"
   ]
  },
  {
   "cell_type": "markdown",
   "metadata": {},
   "source": [
    "In each iteration of a **local search algorithm**, a neighboring state of the current state is accessed. We need to define what constitutes a \"neighbor\". Two states are considered neighbors if they differ at exactly one index.\n",
    "\n",
    "\n",
    "$$\n",
    "(a, b) \\in N \\iff \\exists i: a[i] \\neq b[i] \\land \\forall j \\neq i: a[j] = b[j]\n",
    "$$\n",
    "\n",
    "For example, the following two states are neighbors because they differ only at the third index:\n",
    "\n",
    "$$\n",
    "ACGCT\n",
    "$$\n",
    "$$\n",
    "ACTCT\n",
    "$$"
   ]
  },
  {
   "cell_type": "code",
   "metadata": {},
   "source": [
    "def get_neighbor_state(state):\n",
    "    ##################################################################\n",
    "    # [inputs]                                                       #\n",
    "    # state is a 1D numpy array which represents a state             #\n",
    "    # [outputs]                                                      #\n",
    "    # a neighboring state of input is returned                       #\n",
    "    # [notice]                                                       #\n",
    "    # note the the same state as the input should not be returned    #\n",
    "    # and the neighbor should be selected uniformly at random        #\n",
    "    ##################################################################\n",
    "    pass"
   ],
   "outputs": [],
   "execution_count": null
  },
  {
   "metadata": {},
   "cell_type": "markdown",
   "source": [
    "## Hill Climbing Algorithm (Descent Version)\n",
    "\n",
    "\n",
    "This algorithm is a greedy approach that always moves in the direction of the best immediate improvement.\n",
    "\n",
    "Since our goal is to **minimize** the evaluation function $f(a)$, we will implement a \"descent\" version. The rule for moving from a current state $a_{current}$ to a neighboring state $a_{neighbor}$ is simply:\n",
    "\n",
    "$$\n",
    "\\text{move to } a_{neighbor} \\iff f(a_{neighbor}) < f(a_{current})\n",
    "$$\n",
    "\n",
    "Hill Climbing will never accept a move to a worse state."
   ]
  },
  {
   "metadata": {},
   "cell_type": "markdown",
   "source": "To implement Hill Climbing, we first need a helper function that can generate a list of all neighbors for a given state, as the algorithm needs to evaluate every single one to find the best."
  },
  {
   "metadata": {},
   "cell_type": "code",
   "source": [
    "def get_all_neighbors(state):\n",
    "    ##################################################################\n",
    "    # This function should generate and return a list of all         #\n",
    "    # possible neighbors for a given state. A neighbor is defined    #\n",
    "    # as a sequence that differs from the original state by exactly  #\n",
    "    # one character.                                                 #\n",
    "    # [inputs]                                                       #\n",
    "    #  - state: a 1D numpy array representing the current state      #\n",
    "    # [outputs]                                                      #\n",
    "    #  - a list of all neighboring states                            #\n",
    "    ##################################################################\n",
    "    pass"
   ],
   "outputs": [],
   "execution_count": null
  },
  {
   "metadata": {},
   "cell_type": "code",
   "source": [
    "def hill_climbing_descent(genomes, initial_state, max_iterations=1000):\n",
    "    ##################################################################\n",
    "    # Implement the Hill Climbing (descent) algorithm.               #\n",
    "    # [inputs]                                                       #\n",
    "    #  - genomes: a 2D numpy array representing the set of DNAs      #\n",
    "    #  - initial_state: the state to start with                      #\n",
    "    #  - max_iterations: a limit to prevent infinite loops           #\n",
    "    # [outputs]                                                      #\n",
    "    #  - best state found as a numpy array                           #\n",
    "    #  - best state's evaluation value                               #\n",
    "    #  - all the evaluations of current state as a normal list       #\n",
    "    ##################################################################\n",
    "    current_state = initial_state\n",
    "    evaluations = [] # Store the history of costs for plotting\n",
    "    current_value = float('inf')\n",
    "    ######################################\n",
    "    # YOUR CODE HERE\n",
    "    ######################################\n",
    "    \n",
    "    # Return the final state, its cost, and the history of costs.\n",
    "    return current_state, current_value, evaluations"
   ],
   "outputs": [],
   "execution_count": null
  },
  {
   "cell_type": "markdown",
   "metadata": {},
   "source": [
    "## Simulated Annealing Algorithm\n",
    "\n",
    "The key idea is that this algorithm can sometimes accept a move to a **worse** state, allowing it to \"jump out\" of these traps and explore the search space more thoroughly. This behavior is controlled by a parameter called **temperature ($T$)**.\n",
    "\n",
    "The rule for moving from a current state $a_{current}$ to a random neighbor $a_{neighbor}$ is as follows:\n",
    "\n",
    "$$\n",
    "\\text{move to } a_{neighbor} \\text{ if } \\begin{cases} f(a_{neighbor}) < f(a_{current}) & \\text{(always accept a better move)} \\\\ \\text{random number} < e^{-\\frac{\\Delta f}{T}} & \\text{(probabilistically accept a worse move)} \\end{cases}\n",
    "$$\n",
    "\n",
    "Where $\\Delta f = f(a_{neighbor}) - f(a_{current})$. At high temperatures, the algorithm is more likely to accept worse moves. As it \"cools down,\" it becomes more selective.\n",
    "\n",
    "Now, complete the function below according to the provided comments.\n"
   ]
  },
  {
   "cell_type": "code",
   "metadata": {},
   "source": [
    "def simulated_annealing(genomes, initial_state, alpha, initial_temp, max_iteration, min_temperature):\n",
    "    ##############################################################################\n",
    "    # [inputs]                                                                   #\n",
    "    # genomes is a 2D numpy array and represents the set of DNAs                 #\n",
    "    # initial state is the state to start with                                   #\n",
    "    # alpha is the temperature decay rate                                        #\n",
    "    # initial temp is T0                                                         #\n",
    "    # max_iteration is the maximum number of iteration (termination condition)   #\n",
    "    # min_temperature is the minimum temperature (termination condition)         #\n",
    "    # [outputs]                                                                  #\n",
    "    # best state found as a numpy array                                          #\n",
    "    # best state's evaluation value                                              #\n",
    "    # all the evaluations of current state as a normal list                      #\n",
    "    ##############################################################################\n",
    "    curr_state = initial_state\n",
    "    i = 0\n",
    "    temperature = initial_temp\n",
    "    evaluations = []\n",
    "    best_state = None\n",
    "    best_value = float('INF')\n",
    "\n",
    "    ######################################\n",
    "    # YOUR CODE HERE\n",
    "    ######################################\n",
    "    \n",
    "    return best_state, best_value, evaluations\n"
   ],
   "outputs": [],
   "execution_count": null
  },
  {
   "metadata": {},
   "cell_type": "markdown",
   "source": [
    "## Validate: Comparing the Algorithms\n",
    "\n",
    "In this section, we will compare the three algorithms you have implemented:\n",
    "- **Brute Force:** \n",
    "- **Hill Climbing:**\n",
    "- **Simulated Annealing:**\n",
    "\n",
    "Run the cell below to compare the results of all three algorithms in terms of their **final solution**, **cost (radius)**, and **execution time**."
   ]
  },
  {
   "cell_type": "markdown",
   "metadata": {},
   "source": "In order to validate our implementation of hill climbing and simulated annealing, we implement a naive way to solve the problem. This algorithm traverses all possible sequences and calculates the solution. Note that your implementation of \"calculate_evaluation\" needs to be correct for this algorithm to work correctly."
  },
  {
   "cell_type": "code",
   "metadata": {},
   "source": [
    "##############################################\n",
    "# no need to the any thing                   #\n",
    "##############################################\n",
    "\n",
    "def go_to_next(number, alphabet_length):\n",
    "    idx = len(number) - 1\n",
    "    while idx >= 0:\n",
    "        if number[idx] < alphabet_length - 1:\n",
    "            number[idx] += 1\n",
    "            return True\n",
    "        else:\n",
    "            number[idx] = 0\n",
    "            idx -= 1\n",
    "    return False\n",
    "\n",
    "\n",
    "def brute_force(genomes):\n",
    "    n = len(genomes[0])\n",
    "    curr_state_index = np.zeros(n).astype(int)\n",
    "    best_state = None\n",
    "    best_value = float('inf')\n",
    "\n",
    "    while True:\n",
    "        new_result = calculate_evaluation(genomes, Alphabet[curr_state_index])\n",
    "\n",
    "        if new_result < best_value:\n",
    "            best_value = new_result\n",
    "            best_state = Alphabet[curr_state_index]\n",
    "\n",
    "        if not go_to_next(curr_state_index, len(Alphabet)):\n",
    "            break\n",
    "\n",
    "    return best_state, best_value\n"
   ],
   "outputs": [],
   "execution_count": null
  },
  {
   "cell_type": "markdown",
   "metadata": {},
   "source": "Run the cell below to compare your algorithm with brute force. your answers should be close to the results acheived from brute force."
  },
  {
   "cell_type": "code",
   "metadata": {},
   "source": [
    "genomes_array = np.array([\n",
    "                        [['g', 'c', 'a', 't', 'c'],\n",
    "                         ['g', 'a', 'c', 't', 'c'],\n",
    "                         ['c', 'a', 'c', 'g', 'c']],\n",
    "                         [['a', 'c', 'g', 'g', 'g', 'a', 'c'],\n",
    "                          ['a', 'g', 'g', 'c', 'g', 'a', 'g'],\n",
    "                          ['c', 'g', 'g', 'g', 'g', 't', 'c']],\n",
    "                        [['c', 'c', 'a', 'c', 't', 'a', 'g', 'c', 'a'],\n",
    "                         ['c', 't', 'a', 'g', 't', 'c', 't', 'c', 't'],\n",
    "                         ['c', 't', 'c', 'c', 't', 'c', 'c', 'c', 'g']]], dtype=object)\n",
    "\n",
    "for genomes in genomes_array:\n",
    "    initial_state = initialize_state(len(genomes[0]))\n",
    "    \n",
    "    # Run Simulated Annealing\n",
    "    start_time_sa = time.time()\n",
    "    result_dna_sa, result_value_sa, _ = simulated_annealing(genomes, initial_state, 0.9, 500, 1000, 1e-3)\n",
    "    time_sa = time.time() - start_time_sa\n",
    "    \n",
    "    # Run Hill Climbing\n",
    "    start_time_hc = time.time()\n",
    "    result_dna_hc, result_value_hc, _ = hill_climbing_descent(genomes, initial_state)\n",
    "    time_hc = time.time() - start_time_hc\n",
    "    \n",
    "    # Run Brute Force\n",
    "    start_time_bf = time.time()\n",
    "    result_dna_bf, result_value_bf = brute_force(genomes)\n",
    "    time_bf = time.time() - start_time_bf\n",
    "\n",
    "    print(f'Simulated Annealing found solution {result_dna_sa} with value {result_value_sa} in {time_sa*1000:.3f} milliseconds')\n",
    "    print(f'Hill Climbing       found solution {result_dna_hc} with value {result_value_hc} in {time_hc*1000:.3f} milliseconds')\n",
    "    print(f'Brute Force         found solution {result_dna_bf} with value {result_value_bf} in {time_bf*1000:.3f} milliseconds')\n",
    "    print(\"-\" * 50)"
   ],
   "outputs": [],
   "execution_count": null
  },
  {
   "cell_type": "markdown",
   "metadata": {},
   "source": [
    "## Results: Analyzing the Convergence Graph\n",
    "\n",
    "Graphs are a powerful tool for understanding the **behavior** of search algorithms. In this section, we will plot the change in the `Evaluation Value` over the course of the iterations for both Hill Climbing and Simulated Annealing."
   ]
  },
  {
   "cell_type": "markdown",
   "metadata": {},
   "source": "Run the below cells to see the results."
  },
  {
   "metadata": {},
   "cell_type": "code",
   "source": [
    "# Define a sample genome set for plotting\n",
    "example_genomes = np.array([['c', 'c', 'a', 'c', 't', 'a', 'g', 'g', 'a'],\n",
    "                            ['c', 't', 'a', 'g', 't', 'c', 't', 'g', 'a'],\n",
    "                            ['c', 't', 'c', 'c', 't', 'c', 'c', 'g', 'a']])\n",
    "initial_state = initialize_state(len(example_genomes[0]))\n",
    "\n",
    "# Run both algorithms to get their cost histories\n",
    "_, _, evaluations_sa = simulated_annealing(example_genomes, initial_state, 0.95, 500, 1000, 1e-3)\n",
    "_, _, evaluations_hc = hill_climbing_descent(example_genomes, initial_state)\n",
    "\n",
    "# Plot both histories on the same graph\n",
    "plt.plot(evaluations_sa, label='Simulated Annealing')\n",
    "plt.plot(evaluations_hc, label='Hill Climbing')\n",
    "\n",
    "plt.title('Algorithm Comparison')\n",
    "plt.ylabel('Evaluation Value (Radius)')\n",
    "plt.xlabel('Iteration')\n",
    "plt.legend()\n",
    "plt.show()"
   ],
   "outputs": [],
   "execution_count": null
  },
  {
   "metadata": {},
   "cell_type": "markdown",
   "source": [
    "## Analyzing the Effect of Alpha\n",
    "\n",
    "Run the code cells bellow. They execute the Simulated Annealing algorithm with different `alpha` values (the temperature decay rate).\n",
    "\n",
    "This allows you to visually compare how the \"cooling speed\" affects the algorithm's path to a solution and its final quality."
   ]
  },
  {
   "cell_type": "code",
   "metadata": {},
   "source": [
    "def  draw_results(evaluations):\n",
    "    ##############################################\n",
    "    # no need to the any thing                   #\n",
    "    ##############################################\n",
    "    plt.plot(evaluations)\n",
    "    plt.title('Simulated Annealing algorithm')\n",
    "    plt.ylabel('value')\n",
    "    plt.xlabel('iteration')\n",
    "    plt.show()"
   ],
   "outputs": [],
   "execution_count": null
  },
  {
   "cell_type": "code",
   "metadata": {},
   "source": [
    "result_dna, result_value, evaluations = simulated_annealing(example_genomes, initial_state, 0.9, 500, 1000, 1e-3)\n",
    "print(f'results: {result_dna} and  radius: {result_value}')\n",
    "draw_results(evaluations)\n"
   ],
   "outputs": [],
   "execution_count": null
  },
  {
   "cell_type": "code",
   "metadata": {},
   "source": [
    "\n",
    "result_dna, result_value, evaluations = simulated_annealing(example_genomes, initial_state, 0.8, 500, 1000, 1e-3)\n",
    "print(f'results: {result_dna} and  radius: {result_value}')\n",
    "draw_results(evaluations)\n"
   ],
   "outputs": [],
   "execution_count": null
  },
  {
   "cell_type": "code",
   "metadata": {},
   "source": [
    "result_dna, result_value, evaluations = simulated_annealing(example_genomes, initial_state, 0.95, 500, 1000, 1e-3)\n",
    "print(f'results: {result_dna} and  radius: {result_value}')\n",
    "draw_results(evaluations)\n"
   ],
   "outputs": [],
   "execution_count": null
  }
 ],
 "metadata": {
  "kernelspec": {
   "display_name": "base",
   "language": "python",
   "name": "python3"
  },
  "language_info": {
   "codemirror_mode": {
    "name": "ipython",
    "version": 3
   },
   "file_extension": ".py",
   "mimetype": "text/x-python",
   "name": "python",
   "nbconvert_exporter": "python",
   "pygments_lexer": "ipython3",
   "version": "3.8.8"
  },
  "orig_nbformat": 4
 },
 "nbformat": 4,
 "nbformat_minor": 2
}
